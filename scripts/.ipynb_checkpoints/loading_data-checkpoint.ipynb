{
 "cells": [
  {
   "cell_type": "code",
   "execution_count": 10,
   "id": "c47bcbcf-34bc-4812-8b60-789aef3e7e1d",
   "metadata": {},
   "outputs": [
    {
     "name": "stdout",
     "output_type": "stream",
     "text": [
      "                                                                                              article  \\\n",
      "id                                                                                                      \n",
      "https://www.leparisien.fr/jo-paris-2024/tennis-...  JO Paris 2024 : les pongistes Alexis Lebrun et...   \n",
      "https://www.leparisien.fr/jo-paris-2024/jo-pari...  JO Paris 2024 : Marchand, Mayer, Mossely, Rine...   \n",
      "https://www.leparisien.fr/sports/pour-le-kyks-l...  « Pour le Kyks » : l’inattendue célébration du...   \n",
      "https://www.leparisien.fr/jo-paris-2024/tennis-...  JO Paris 2024 : « Deux champions qui n’ont pas...   \n",
      "https://www.leparisien.fr/jo-paris-2024/jo-pari...  JO Paris 2024 : « On peut être une drag-queen ...   \n",
      "https://www.leparisien.fr/jo-paris-2024/jo-pari...  JO Paris 2024 : Thomas Pesquet portera la flam...   \n",
      "https://www.leparisien.fr/jo-paris-2024/jo-pari...  JO Paris 2024 : un tournoi de qualification « ...   \n",
      "https://www.leparisien.fr/jo-paris-2024/le-rela...  JO Paris 2024 : le relais de la flamme a début...   \n",
      "https://www.leparisien.fr/jo-paris-2024/il-sagi...  « Il s’agit de créer des liens avec les gens »...   \n",
      "https://www.leparisien.fr/essonne-91/les-ulis-u...  Les Ulis : un forain de 15 ans grièvement bles...   \n",
      "\n",
      "                                                                                          description  \n",
      "id                                                                                                     \n",
      "https://www.leparisien.fr/jo-paris-2024/tennis-...  La fédération internationale de tennis de tabl...  \n",
      "https://www.leparisien.fr/jo-paris-2024/jo-pari...  Entre stages d’entraînement et compétitions, l...  \n",
      "https://www.leparisien.fr/sports/pour-le-kyks-l...  Vainqueur pour la première fois de sa carrière...  \n",
      "https://www.leparisien.fr/jo-paris-2024/tennis-...  Félix et Alexis Lebrun étaient de passage ce j...  \n",
      "https://www.leparisien.fr/jo-paris-2024/jo-pari...  Martin Namias, connu sous son nom de drag-quee...  \n",
      "https://www.leparisien.fr/jo-paris-2024/jo-pari...  La flamme olympique traversera Le Mont-Saint-M...  \n",
      "https://www.leparisien.fr/jo-paris-2024/jo-pari...  L’équipe de France, composée de douze lutteurs...  \n",
      "https://www.leparisien.fr/jo-paris-2024/le-rela...  L’ex-international français, seul buteur lors ...  \n",
      "https://www.leparisien.fr/jo-paris-2024/il-sagi...  Ce jeudi 9 mai, c’est le début du relais de la...  \n",
      "https://www.leparisien.fr/essonne-91/les-ulis-u...  L’accident s’est produit vers 18h30, samedi, s...  \n"
     ]
    }
   ],
   "source": [
    "from datasets import load_dataset\n",
    "\n",
    "# Charger le dataset à partir du fichier CSV\n",
    "dataset = load_dataset('csv', data_files='./output_data/scraped_data.csv')\n",
    "\n",
    "# Convertir le dataset en DataFrame Pandas\n",
    "df = dataset['train'].to_pandas()\n",
    "\n",
    "# Définir la colonne \"id\" comme étant la colonne d'index\n",
    "df.set_index('id', inplace=True)\n",
    "\n",
    "# Afficher les 10 premières lignes du DataFrame\n",
    "print(df.head(10))\n"
   ]
  },
  {
   "cell_type": "code",
   "execution_count": null,
   "id": "9dba2744-1a78-4596-bd33-b34a035969cc",
   "metadata": {},
   "outputs": [],
   "source": []
  }
 ],
 "metadata": {
  "kernelspec": {
   "display_name": "Python 3 (ipykernel)",
   "language": "python",
   "name": "python3"
  },
  "language_info": {
   "codemirror_mode": {
    "name": "ipython",
    "version": 3
   },
   "file_extension": ".py",
   "mimetype": "text/x-python",
   "name": "python",
   "nbconvert_exporter": "python",
   "pygments_lexer": "ipython3",
   "version": "3.10.0"
  }
 },
 "nbformat": 4,
 "nbformat_minor": 5
}
